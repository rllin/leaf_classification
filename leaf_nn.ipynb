{
 "cells": [
  {
   "cell_type": "code",
   "execution_count": 1,
   "metadata": {
    "collapsed": false
   },
   "outputs": [
    {
     "name": "stderr",
     "output_type": "stream",
     "text": [
      "/usr/local/lib/python2.7/dist-packages/sklearn/cross_validation.py:44: DeprecationWarning: This module was deprecated in version 0.18 in favor of the model_selection module into which all the refactored classes and functions are moved. Also note that the interface of the new CV iterators are different from that of this module. This module will be removed in 0.20.\n",
      "  \"This module will be removed in 0.20.\", DeprecationWarning)\n"
     ]
    }
   ],
   "source": [
    "from datetime import datetime\n",
    "import time\n",
    "import pickle\n",
    "import glob\n",
    "\n",
    "import matplotlib\n",
    "import numpy as np\n",
    "import pandas as pd\n",
    "import matplotlib.pyplot as plt\n",
    "import tensorflow as tf\n",
    "\n",
    "from sklearn.preprocessing import LabelEncoder\n",
    "from sklearn.cross_validation import StratifiedShuffleSplit\n",
    "from skimage.io import imread\n",
    "from skimage.transform import resize\n",
    "from tensorflow.python.framework.ops import reset_default_graph\n",
    "\n",
    "from util import etl, helpers"
   ]
  },
  {
   "cell_type": "code",
   "execution_count": 2,
   "metadata": {
    "collapsed": false
   },
   "outputs": [],
   "source": [
    "# loading data and setting up constants\n",
    "TRAIN_PATH = \"./data/train.csv\"\n",
    "TEST_PATH = \"./data/test.csv\"\n",
    "IMAGE_PATHS = glob.glob(\"./data/images/*.jpg\")\n",
    "IMAGE_SHAPE = (128, 128, 1)\n",
    "HEIGHT, WIDTH, CHANNEL = IMAGE_SHAPE\n",
    "\n",
    "with open('./data/train.pickle', 'rb') as f:\n",
    "    train = pickle.load(f)\n",
    "with open('./data/test.pickle', 'rb') as f:\n",
    "    test = pickle.load(f)"
   ]
  },
  {
   "cell_type": "code",
   "execution_count": 3,
   "metadata": {
    "collapsed": false
   },
   "outputs": [],
   "source": [
    "#Training Loop\n",
    "BATCH_SIZE = 64\n",
    "ITERATIONS = 1e4\n",
    "LOG_FREQ = 10\n",
    "VALIDATION_SIZE = 0.1 # 0.1 is ~ 100 samples for validation\n",
    "SEED = 42\n",
    "DROPOUT = False\n",
    "LEARNING_RATE = 0.0005\n",
    "VALID_EVERY = 100\n",
    "TRAIN_SIZE = 1.0\n",
    "CLASS_SIZE = 0.1dr\n",
    "\n",
    "NUM_CLASSES = 99   # len(train['species'].unique())\n",
    "NUM_FEATURES = 64 # for all three features, margin, shape and texture\n",
    "dropout = 0.75 # Dropout, probability to keep units\n",
    "\n",
    "x = tf.placeholder(tf.float32, [BATCH_SIZE, WIDTH, HEIGHT, CHANNEL], name='x_image_pl')\n",
    "y = tf.placeholder(tf.float32, [BATCH_SIZE, int(round(NUM_CLASSES * CLASS_SIZE))], name='classes_pl')\n",
    "keep_prob = tf.placeholder(tf.float32) #dropout (keep probability)\n"
   ]
  },
  {
   "cell_type": "code",
   "execution_count": 4,
   "metadata": {
    "collapsed": false
   },
   "outputs": [
    {
     "data": {
      "text/plain": [
       "10"
      ]
     },
     "execution_count": 4,
     "metadata": {},
     "output_type": "execute_result"
    }
   ],
   "source": [
    "int(round(NUM_CLASSES * CLASS_SIZE))"
   ]
  },
  {
   "cell_type": "code",
   "execution_count": 5,
   "metadata": {
    "collapsed": false
   },
   "outputs": [
    {
     "name": "stdout",
     "output_type": "stream",
     "text": [
      "(64, 128, 128, 32)\n",
      "(64, 64, 64, 32)\n",
      "(64, 64, 64, 64)\n",
      "(64, 32, 32, 64)\n",
      "(64, 1024)\n",
      "(64, 10)\n",
      "WARNING:tensorflow:From <ipython-input-5-c7d953ae1115>:33 in <module>.: initialize_all_variables (from tensorflow.python.ops.variables) is deprecated and will be removed after 2017-03-02.\n",
      "Instructions for updating:\n",
      "Use `tf.global_variables_initializer` instead.\n"
     ]
    }
   ],
   "source": [
    "# Store layers weight & bias\n",
    "weights = {\n",
    "    # 5x5 conv, 1 input, 32 outputs\n",
    "    'wc1': tf.Variable(tf.random_normal([5, 5, 1, 32]), name='wc1'),\n",
    "    # 5x5 conv, 32 inputs, 64 outputs\n",
    "    'wc2': tf.Variable(tf.random_normal([5, 5, 32, 64]), name='wc2'),\n",
    "    # fully connected, 7*7*64 inputs, 1024 outputs\n",
    "    'wd1': tf.Variable(tf.random_normal([WIDTH / 4 * HEIGHT / 4 * 64, 1024]), name='wd1'),\n",
    "    # 1024 inputs, 10 outputs (class prediction)\n",
    "    'out': tf.Variable(tf.random_normal([1024, int(round(NUM_CLASSES * CLASS_SIZE))]), name='out')\n",
    "}\n",
    "\n",
    "biases = {\n",
    "    'bc1': tf.Variable(tf.random_normal([32]), name='bc1'),\n",
    "    'bc2': tf.Variable(tf.random_normal([64]), name='bc2'),\n",
    "    'bd1': tf.Variable(tf.random_normal([1024]), name='bd1'),\n",
    "    'out': tf.Variable(tf.random_normal([int(round(NUM_CLASSES * CLASS_SIZE))]), name='b_out')\n",
    "}\n",
    "\n",
    "# Construct model\n",
    "net = {}\n",
    "pred = helpers.conv_net(x, weights, biases, keep_prob, net)\n",
    "\n",
    "# Define loss and optimizer\n",
    "cost = tf.reduce_mean(tf.nn.softmax_cross_entropy_with_logits(pred, y))\n",
    "optimizer = tf.train.AdamOptimizer(learning_rate=LEARNING_RATE).minimize(cost)\n",
    "\n",
    "# Evaluate model\n",
    "correct_pred = tf.equal(tf.argmax(pred, 1), tf.argmax(y, 1))\n",
    "accuracy = tf.reduce_mean(tf.cast(correct_pred, tf.float32))\n",
    "\n",
    "# Initializing the variables\n",
    "init = tf.initialize_all_variables()"
   ]
  },
  {
   "cell_type": "code",
   "execution_count": 6,
   "metadata": {
    "collapsed": false
   },
   "outputs": [
    {
     "name": "stdout",
     "output_type": "stream",
     "text": [
      "initiating batch generator with (10/99) classes and 1.000000 of the training data and 0.100000 as validation\n"
     ]
    },
    {
     "name": "stderr",
     "output_type": "stream",
     "text": [
      "util/etl.py:24: VisibleDeprecationWarning: using a non-integer number instead of an integer will result in an error in the future\n",
      "  out[row, col] = 1\n"
     ]
    }
   ],
   "source": [
    "batch_gen = etl.batch_generator(train, test, batch_size=BATCH_SIZE, num_classes=NUM_CLASSES,\n",
    "                            num_iterations=ITERATIONS, seed=SEED, train_size=TRAIN_SIZE, val_size=VALIDATION_SIZE, class_size=CLASS_SIZE)\n",
    "\n",
    "train_batch = batch_gen.gen_train()\n",
    "valid_batch = batch_gen.gen_valid()\n",
    "test_batch = batch_gen.gen_test()\n",
    "\n",
    "\n",
    "valid_batch_one, i = valid_batch.next()"
   ]
  },
  {
   "cell_type": "code",
   "execution_count": 7,
   "metadata": {
    "collapsed": false
   },
   "outputs": [
    {
     "name": "stdout",
     "output_type": "stream",
     "text": [
      "64\n",
      "64\n",
      "64\n",
      "64\n"
     ]
    }
   ],
   "source": [
    "print len(batch_gen.gen_train().next()['images'])\n",
    "print len(batch_gen.gen_train().next()['ts'])\n",
    "print len(valid_batch_one['images'])\n",
    "print len(valid_batch_one['ts'])"
   ]
  },
  {
   "cell_type": "code",
   "execution_count": 8,
   "metadata": {
    "collapsed": false
   },
   "outputs": [
    {
     "name": "stdout",
     "output_type": "stream",
     "text": [
      "Iter \t Batch Loss \t Batch Accuracy \t Valid Loss \t Valid Accuracy \t Time delta\n",
      "\n",
      "0\t245024.8906\t\t0.0625\t\t39886.5508\t\t0.0000\t\t15.3657\n",
      "\n",
      "1\t179932.7188\t\t0.1719\t\t29430.7871\t\t0.0469\t\t8.2335\n",
      "\n",
      "2\t179376.3750\t\t0.1094\t\t27848.4531\t\t0.0312\t\t7.7480\n",
      "\n",
      "3\t128158.9844\t\t0.2812\t\t25913.7266\t\t0.0312\t\t7.6652\n",
      "\n",
      "4\t142131.6719\t\t0.2969\t\t23154.5664\t\t0.0312\t\t7.8009\n",
      "\n",
      "5\t103789.6875\t\t0.4688\t\t19720.3828\t\t0.0469\t\t7.7339\n",
      "\n",
      "6\t85416.8125\t\t0.4844\t\t16401.5957\t\t0.0469\t\t7.8944\n",
      "\n",
      "7\t50065.6172\t\t0.5625\t\t11585.0723\t\t0.0469\t\t7.6148\n",
      "\n",
      "8\t39951.7539\t\t0.6094\t\t8202.8027\t\t0.0938\t\t7.8520\n",
      "\n",
      "9\t18888.7109\t\t0.7500\t\t10186.3496\t\t0.0781\t\t8.5856\n",
      "\n",
      "10\t42908.8984\t\t0.6406\t\t11550.4346\t\t0.0625\t\t9.7851\n",
      "\n",
      "11\t43476.2227\t\t0.6406\t\t11403.1934\t\t0.0781\t\t8.7765\n",
      "\n",
      "12\t30974.9902\t\t0.7656\t\t10864.5762\t\t0.0781\t\t8.7234\n",
      "\n",
      "13\t32168.0293\t\t0.6562\t\t9346.5361\t\t0.1094\t\t9.1532\n",
      "\n",
      "14\t28907.0352\t\t0.7344\t\t7269.4619\t\t0.1094\t\t10.9239\n",
      "\n",
      "15\t8145.3252\t\t0.8594\t\t4960.6909\t\t0.1094\t\t8.7191\n",
      "\n",
      "16\t5713.1396\t\t0.8906\t\t3253.5322\t\t0.1250\t\t8.5990\n",
      "\n",
      "17\t8391.8828\t\t0.8594\t\t2856.5293\t\t0.1250\t\t8.0507\n",
      "\n",
      "18\t1242.6726\t\t0.9688\t\t2613.6382\t\t0.1250\t\t8.8196\n",
      "\n",
      "19\t7716.3013\t\t0.8906\t\t2955.4958\t\t0.1094\t\t7.7121\n",
      "\n",
      "20\t10138.7773\t\t0.8594\t\t3242.5723\t\t0.1094\t\t7.9776\n",
      "\n",
      "21\t4162.3188\t\t0.9219\t\t3542.2517\t\t0.1094\t\t8.2311\n",
      "\n",
      "22\t3616.9868\t\t0.8750\t\t2014.7712\t\t0.1094\t\t9.7092\n",
      "\n",
      "23\t1871.3296\t\t0.9375\t\t1895.0166\t\t0.1406\t\t10.5300\n",
      "\n",
      "24\t854.3418\t\t0.9688\t\t1950.9578\t\t0.1406\t\t9.7553\n",
      "\n",
      "25\t0.0000\t\t1.0000\t\t2053.1753\t\t0.1406\t\t13.4826\n",
      "\n",
      "26\t803.0645\t\t0.9844\t\t1898.2751\t\t0.1406\t\t12.9056\n",
      "\n",
      "27\t308.9863\t\t0.9844\t\t2003.6089\t\t0.1406\t\t11.2721\n",
      "\n",
      "28\t192.8027\t\t0.9844\t\t2299.3059\t\t0.1406\t\t8.8480\n",
      "\n",
      "29\t558.0186\t\t0.9844\t\t2362.3804\t\t0.1406\t\t8.1159\n",
      "\n",
      "30\t0.0000\t\t1.0000\t\t2173.1345\t\t0.1406\t\t8.5070\n",
      "\n",
      "31\t0.0000\t\t1.0000\t\t1920.5098\t\t0.1406\t\t7.7065\n",
      "\n",
      "32\t673.6670\t\t0.9688\t\t1420.9951\t\t0.1406\t\t8.5481\n",
      "\n",
      "33\t0.0000\t\t1.0000\t\t1128.2849\t\t0.1250\t\t8.8849\n",
      "\n",
      "34\t0.0000\t\t1.0000\t\t1074.0742\t\t0.1250\t\t7.9510\n",
      "\n",
      "35\t0.0000\t\t1.0000\t\t1066.2480\t\t0.1250\t\t9.0596\n",
      "\n",
      "36\t0.0000\t\t1.0000\t\t1387.8938\t\t0.1406\t\t7.7403\n",
      "\n",
      "37\t0.0000\t\t1.0000\t\t1864.3499\t\t0.1406\t\t7.8556\n",
      "\n",
      "38\t0.0000\t\t1.0000\t\t2353.2627\t\t0.1406\t\t7.7291\n",
      "\n",
      "39\t0.0000\t\t1.0000\t\t2917.2429\t\t0.1406\t\t8.7358\n",
      "\n",
      "40\t0.0000\t\t1.0000\t\t3287.1292\t\t0.1406\t\t7.6189\n",
      "\n",
      "41\t0.0000\t\t1.0000\t\t3478.7354\t\t0.1406\t\t7.8250\n",
      "\n",
      "42\t0.0000\t\t1.0000\t\t3294.1106\t\t0.1406\t\t7.8829\n",
      "\n",
      "43\t0.0000\t\t1.0000\t\t2948.3472\t\t0.1406\t\t7.7696\n",
      "\n",
      "44\t0.0000\t\t1.0000\t\t2313.7542\t\t0.1406\t\t7.6683\n",
      "\n",
      "45\t0.0000\t\t1.0000\t\t1807.8623\t\t0.1406\t\t7.8299\n",
      "\n",
      "46\t0.0000\t\t1.0000\t\t1433.6924\t\t0.1406\t\t7.8186\n",
      "\n",
      "47\t0.0000\t\t1.0000\t\t1105.1602\t\t0.1406\t\t7.7906\n",
      "\n",
      "48\t0.0000\t\t1.0000\t\t954.8989\t\t0.1406\t\t7.6159\n",
      "\n",
      "49\t0.0000\t\t1.0000\t\t940.6440\t\t0.1406\t\t7.8817\n",
      "\n",
      "50\t0.0000\t\t1.0000\t\t889.4678\t\t0.1406\t\t7.8640\n",
      "\n",
      "51\t0.0000\t\t1.0000\t\t910.8901\t\t0.1406\t\t7.8453\n",
      "\n",
      "52\t0.0000\t\t1.0000\t\t1125.5747\t\t0.1406\t\t7.5778\n",
      "\n",
      "53\t0.0000\t\t1.0000\t\t1448.6445\t\t0.1406\t\t7.9433\n",
      "\n",
      "54\t0.0000\t\t1.0000\t\t1680.3823\t\t0.1406\t\t9.3407\n",
      "\n",
      "55\t0.0000\t\t1.0000\t\t1869.0596\t\t0.1406\t\t9.0276\n",
      "\n",
      "56\t0.0000\t\t1.0000\t\t2032.1460\t\t0.1406\t\t8.4446\n",
      "\n",
      "57\t0.0000\t\t1.0000\t\t2186.0303\t\t0.1406\t\t9.2783\n",
      "\n",
      "58\t0.0000\t\t1.0000\t\t2259.5195\t\t0.1250\t\t10.1568\n",
      "\n",
      "59\t0.0000\t\t1.0000\t\t2330.7871\t\t0.1250\t\t12.6142\n",
      "\n",
      "60\t0.0000\t\t1.0000\t\t2382.2725\t\t0.1250\t\t11.5395\n",
      "\n",
      "61\t0.0000\t\t1.0000\t\t2434.1785\t\t0.1250\t\t10.6478\n",
      "\n",
      "62\t0.0000\t\t1.0000\t\t2284.4644\t\t0.1250\t\t8.3811\n",
      "\n",
      "63\t0.0000\t\t1.0000\t\t2054.1333\t\t0.1250\t\t9.4844\n",
      "\n",
      "64\t0.0000\t\t1.0000\t\t1867.0691\t\t0.1250\t\t8.1657\n",
      "\n",
      "65\t0.0000\t\t1.0000\t\t1388.5256\t\t0.1250\t\t11.0393\n",
      "\n",
      "66\t0.0000\t\t1.0000\t\t1220.2627\t\t0.1406\t\t9.5907\n",
      "\n",
      "67\t0.0000\t\t1.0000\t\t1255.7451\t\t0.1406\t\t11.1936\n",
      "\n",
      "68\t0.0000\t\t1.0000\t\t1286.8857\t\t0.1406\t\t9.5014\n",
      "\n",
      "69\t0.0000\t\t1.0000\t\t1325.7065\t\t0.1406\t\t10.3340\n",
      "\n",
      "70\t0.0000\t\t1.0000\t\t1360.6851\t\t0.1406\t\t9.6756\n",
      "\n",
      "71\t0.0000\t\t1.0000\t\t1364.9419\t\t0.1406\t\t9.8299\n",
      "\n",
      "72\t0.0000\t\t1.0000\t\t1614.5586\t\t0.1406\t\t10.9593\n",
      "\n",
      "73\t0.0000\t\t1.0000\t\t1488.0710\t\t0.1406\t\t9.5378\n",
      "\n",
      "74\t0.0000\t\t1.0000\t\t1229.5798\t\t0.1406\t\t9.1318\n",
      "\n",
      "75\t0.0000\t\t1.0000\t\t831.7883\t\t0.1406\t\t9.3432\n",
      "\n",
      "76\t0.0000\t\t1.0000\t\t472.4441\t\t0.1406\t\t11.0270\n",
      "\n",
      "77\t0.0000\t\t1.0000\t\t274.2910\t\t0.1406\t\t9.6940\n",
      "\n",
      "78\t0.0000\t\t1.0000\t\t94.8169\t\t0.1406\t\t9.2644\n",
      "\n",
      "79\t0.0000\t\t1.0000\t\t92.4915\t\t0.1406\t\t10.8650\n",
      "\n",
      "80\t0.0000\t\t1.0000\t\t258.3770\t\t0.1406\t\t9.4480\n",
      "\n",
      "81\t0.0000\t\t1.0000\t\t570.9492\t\t0.1406\t\t9.5851\n",
      "\n",
      "82\t0.0000\t\t1.0000\t\t710.4500\t\t0.1406\t\t9.5139\n",
      "\n",
      "83\t0.0000\t\t1.0000\t\t840.2781\t\t0.1406\t\t11.0407\n",
      "\n",
      "84\t0.0000\t\t1.0000\t\t984.3140\t\t0.1406\t\t9.3832\n",
      "\n",
      "85\t0.0000\t\t1.0000\t\t1208.0139\t\t0.1406\t\t8.4339\n",
      "\n",
      "86\t0.0000\t\t1.0000\t\t1414.8860\t\t0.1406\t\t9.5922\n",
      "\n",
      "87\t0.0000\t\t1.0000\t\t1708.6851\t\t0.1406\t\t12.8501\n",
      "\n",
      "88\t0.0000\t\t1.0000\t\t1795.9163\t\t0.1406\t\t10.3549\n",
      "\n",
      "89\t0.0000\t\t1.0000\t\t1684.1045\t\t0.1406\t\t10.4425\n",
      "\n",
      "90\t0.0000\t\t1.0000\t\t1585.8853\t\t0.1406\t\t9.3469\n",
      "\n",
      "91\t0.0000\t\t1.0000\t\t1496.8923\t\t0.1406\t\t9.2610\n",
      "\n",
      "92\t0.0000\t\t1.0000\t\t1280.7837\t\t0.1406\t\t9.5482\n",
      "\n",
      "93\t0.0000\t\t1.0000\t\t1078.3020\t\t0.1406\t\t8.8335\n",
      "\n",
      "94\t0.0000\t\t1.0000\t\t804.2068\t\t0.1406\t\t10.4022\n",
      "\n",
      "95\t0.0000\t\t1.0000\t\t448.5024\t\t0.1406\t\t10.2298\n",
      "\n",
      "96\t0.0000\t\t1.0000\t\t237.5640\t\t0.1406\t\t10.3155\n",
      "\n"
     ]
    },
    {
     "ename": "KeyboardInterrupt",
     "evalue": "",
     "output_type": "error",
     "traceback": [
      "\u001b[0;31m---------------------------------------------------------------------------\u001b[0m",
      "\u001b[0;31mKeyboardInterrupt\u001b[0m                         Traceback (most recent call last)",
      "\u001b[0;32m<ipython-input-8-58704ae974ba>\u001b[0m in \u001b[0;36m<module>\u001b[0;34m()\u001b[0m\n\u001b[1;32m      9\u001b[0m             \u001b[0mx\u001b[0m\u001b[0;34m:\u001b[0m \u001b[0mbatch\u001b[0m\u001b[0;34m[\u001b[0m\u001b[0;34m'images'\u001b[0m\u001b[0;34m]\u001b[0m\u001b[0;34m,\u001b[0m\u001b[0;34m\u001b[0m\u001b[0m\n\u001b[1;32m     10\u001b[0m             \u001b[0my\u001b[0m\u001b[0;34m:\u001b[0m \u001b[0mbatch\u001b[0m\u001b[0;34m[\u001b[0m\u001b[0;34m'ts'\u001b[0m\u001b[0;34m]\u001b[0m\u001b[0;34m,\u001b[0m\u001b[0;34m\u001b[0m\u001b[0m\n\u001b[0;32m---> 11\u001b[0;31m             \u001b[0mkeep_prob\u001b[0m\u001b[0;34m:\u001b[0m \u001b[0mdropout\u001b[0m\u001b[0;34m\u001b[0m\u001b[0m\n\u001b[0m\u001b[1;32m     12\u001b[0m         })\n\u001b[1;32m     13\u001b[0m         \u001b[0;32mif\u001b[0m \u001b[0mi\u001b[0m \u001b[0;34m%\u001b[0m \u001b[0mreport_interval\u001b[0m \u001b[0;34m==\u001b[0m \u001b[0;36m0\u001b[0m\u001b[0;34m:\u001b[0m\u001b[0;34m\u001b[0m\u001b[0m\n",
      "\u001b[0;32m/usr/local/lib/python2.7/dist-packages/tensorflow/python/client/session.pyc\u001b[0m in \u001b[0;36mrun\u001b[0;34m(self, fetches, feed_dict, options, run_metadata)\u001b[0m\n\u001b[1;32m    764\u001b[0m     \u001b[0;32mtry\u001b[0m\u001b[0;34m:\u001b[0m\u001b[0;34m\u001b[0m\u001b[0m\n\u001b[1;32m    765\u001b[0m       result = self._run(None, fetches, feed_dict, options_ptr,\n\u001b[0;32m--> 766\u001b[0;31m                          run_metadata_ptr)\n\u001b[0m\u001b[1;32m    767\u001b[0m       \u001b[0;32mif\u001b[0m \u001b[0mrun_metadata\u001b[0m\u001b[0;34m:\u001b[0m\u001b[0;34m\u001b[0m\u001b[0m\n\u001b[1;32m    768\u001b[0m         \u001b[0mproto_data\u001b[0m \u001b[0;34m=\u001b[0m \u001b[0mtf_session\u001b[0m\u001b[0;34m.\u001b[0m\u001b[0mTF_GetBuffer\u001b[0m\u001b[0;34m(\u001b[0m\u001b[0mrun_metadata_ptr\u001b[0m\u001b[0;34m)\u001b[0m\u001b[0;34m\u001b[0m\u001b[0m\n",
      "\u001b[0;32m/usr/local/lib/python2.7/dist-packages/tensorflow/python/client/session.pyc\u001b[0m in \u001b[0;36m_run\u001b[0;34m(self, handle, fetches, feed_dict, options, run_metadata)\u001b[0m\n\u001b[1;32m    962\u001b[0m     \u001b[0;32mif\u001b[0m \u001b[0mfinal_fetches\u001b[0m \u001b[0;32mor\u001b[0m \u001b[0mfinal_targets\u001b[0m\u001b[0;34m:\u001b[0m\u001b[0;34m\u001b[0m\u001b[0m\n\u001b[1;32m    963\u001b[0m       results = self._do_run(handle, final_targets, final_fetches,\n\u001b[0;32m--> 964\u001b[0;31m                              feed_dict_string, options, run_metadata)\n\u001b[0m\u001b[1;32m    965\u001b[0m     \u001b[0;32melse\u001b[0m\u001b[0;34m:\u001b[0m\u001b[0;34m\u001b[0m\u001b[0m\n\u001b[1;32m    966\u001b[0m       \u001b[0mresults\u001b[0m \u001b[0;34m=\u001b[0m \u001b[0;34m[\u001b[0m\u001b[0;34m]\u001b[0m\u001b[0;34m\u001b[0m\u001b[0m\n",
      "\u001b[0;32m/usr/local/lib/python2.7/dist-packages/tensorflow/python/client/session.pyc\u001b[0m in \u001b[0;36m_do_run\u001b[0;34m(self, handle, target_list, fetch_list, feed_dict, options, run_metadata)\u001b[0m\n\u001b[1;32m   1012\u001b[0m     \u001b[0;32mif\u001b[0m \u001b[0mhandle\u001b[0m \u001b[0;32mis\u001b[0m \u001b[0mNone\u001b[0m\u001b[0;34m:\u001b[0m\u001b[0;34m\u001b[0m\u001b[0m\n\u001b[1;32m   1013\u001b[0m       return self._do_call(_run_fn, self._session, feed_dict, fetch_list,\n\u001b[0;32m-> 1014\u001b[0;31m                            target_list, options, run_metadata)\n\u001b[0m\u001b[1;32m   1015\u001b[0m     \u001b[0;32melse\u001b[0m\u001b[0;34m:\u001b[0m\u001b[0;34m\u001b[0m\u001b[0m\n\u001b[1;32m   1016\u001b[0m       return self._do_call(_prun_fn, self._session, handle, feed_dict,\n",
      "\u001b[0;32m/usr/local/lib/python2.7/dist-packages/tensorflow/python/client/session.pyc\u001b[0m in \u001b[0;36m_do_call\u001b[0;34m(self, fn, *args)\u001b[0m\n\u001b[1;32m   1019\u001b[0m   \u001b[0;32mdef\u001b[0m \u001b[0m_do_call\u001b[0m\u001b[0;34m(\u001b[0m\u001b[0mself\u001b[0m\u001b[0;34m,\u001b[0m \u001b[0mfn\u001b[0m\u001b[0;34m,\u001b[0m \u001b[0;34m*\u001b[0m\u001b[0margs\u001b[0m\u001b[0;34m)\u001b[0m\u001b[0;34m:\u001b[0m\u001b[0;34m\u001b[0m\u001b[0m\n\u001b[1;32m   1020\u001b[0m     \u001b[0;32mtry\u001b[0m\u001b[0;34m:\u001b[0m\u001b[0;34m\u001b[0m\u001b[0m\n\u001b[0;32m-> 1021\u001b[0;31m       \u001b[0;32mreturn\u001b[0m \u001b[0mfn\u001b[0m\u001b[0;34m(\u001b[0m\u001b[0;34m*\u001b[0m\u001b[0margs\u001b[0m\u001b[0;34m)\u001b[0m\u001b[0;34m\u001b[0m\u001b[0m\n\u001b[0m\u001b[1;32m   1022\u001b[0m     \u001b[0;32mexcept\u001b[0m \u001b[0merrors\u001b[0m\u001b[0;34m.\u001b[0m\u001b[0mOpError\u001b[0m \u001b[0;32mas\u001b[0m \u001b[0me\u001b[0m\u001b[0;34m:\u001b[0m\u001b[0;34m\u001b[0m\u001b[0m\n\u001b[1;32m   1023\u001b[0m       \u001b[0mmessage\u001b[0m \u001b[0;34m=\u001b[0m \u001b[0mcompat\u001b[0m\u001b[0;34m.\u001b[0m\u001b[0mas_text\u001b[0m\u001b[0;34m(\u001b[0m\u001b[0me\u001b[0m\u001b[0;34m.\u001b[0m\u001b[0mmessage\u001b[0m\u001b[0;34m)\u001b[0m\u001b[0;34m\u001b[0m\u001b[0m\n",
      "\u001b[0;32m/usr/local/lib/python2.7/dist-packages/tensorflow/python/client/session.pyc\u001b[0m in \u001b[0;36m_run_fn\u001b[0;34m(session, feed_dict, fetch_list, target_list, options, run_metadata)\u001b[0m\n\u001b[1;32m   1001\u001b[0m         return tf_session.TF_Run(session, options,\n\u001b[1;32m   1002\u001b[0m                                  \u001b[0mfeed_dict\u001b[0m\u001b[0;34m,\u001b[0m \u001b[0mfetch_list\u001b[0m\u001b[0;34m,\u001b[0m \u001b[0mtarget_list\u001b[0m\u001b[0;34m,\u001b[0m\u001b[0;34m\u001b[0m\u001b[0m\n\u001b[0;32m-> 1003\u001b[0;31m                                  status, run_metadata)\n\u001b[0m\u001b[1;32m   1004\u001b[0m \u001b[0;34m\u001b[0m\u001b[0m\n\u001b[1;32m   1005\u001b[0m     \u001b[0;32mdef\u001b[0m \u001b[0m_prun_fn\u001b[0m\u001b[0;34m(\u001b[0m\u001b[0msession\u001b[0m\u001b[0;34m,\u001b[0m \u001b[0mhandle\u001b[0m\u001b[0;34m,\u001b[0m \u001b[0mfeed_dict\u001b[0m\u001b[0;34m,\u001b[0m \u001b[0mfetch_list\u001b[0m\u001b[0;34m)\u001b[0m\u001b[0;34m:\u001b[0m\u001b[0;34m\u001b[0m\u001b[0m\n",
      "\u001b[0;31mKeyboardInterrupt\u001b[0m: "
     ]
    }
   ],
   "source": [
    "print \"Iter \\t Batch Loss \\t Batch Accuracy \\t Valid Loss \\t Valid Accuracy \\t Time delta\\n\"\n",
    "report_interval = 1\n",
    "time_last = time.time()\n",
    "with tf.Session() as sess:\n",
    "    sess.run(init)\n",
    "    # Keep training until reach max iterations\n",
    "    for i, batch in enumerate(batch_gen.gen_train()):\n",
    "        sess.run(optimizer, feed_dict={\n",
    "            x: batch['images'],\n",
    "            y: batch['ts'],\n",
    "            keep_prob: dropout\n",
    "        })\n",
    "        if i % report_interval == 0:\n",
    "            # Calculate batch loss and accuracy\n",
    "            batch_loss, batch_acc = sess.run([cost, accuracy], feed_dict={\n",
    "                x: batch['images'],\n",
    "                y: batch['ts'],\n",
    "                keep_prob: 1.\n",
    "            })\n",
    "            valid_loss, valid_acc = sess.run([cost, accuracy], feed_dict={\n",
    "                x: valid_batch_one['images'],\n",
    "                y: valid_batch_one['ts'],\n",
    "                keep_prob: 1.\n",
    "            })\n",
    "            print \"%d\\t%.4f\\t\\t%.4f\\t\\t%.4f\\t\\t%.4f\\t\\t%.4f\\n\" % (i, batch_loss, batch_acc, valid_loss, valid_acc, time.time() - time_last)\n",
    "            time_last = time.time()\n",
    "        if i >= ITERATIONS:\n",
    "            break\n",
    "        if valid_acc > 0.99:\n",
    "            break\n",
    "    print \"Optimization Finished!\"\n",
    "    \n",
    "    print \"Testing Accuracy:\", \\\n",
    "    \n",
    "    "
   ]
  },
  {
   "cell_type": "code",
   "execution_count": null,
   "metadata": {
    "collapsed": false
   },
   "outputs": [],
   "source": [
    "#correct_prediction = tf.equal(tf.argmax(y,1), tf.argmax(y_,1))\n",
    "#accuracy = tf.reduce_mean(tf.cast(correct_prediction, tf.float32))\n",
    "loss, accuracy, argmax_y = loss_and_acc(y)"
   ]
  },
  {
   "cell_type": "code",
   "execution_count": null,
   "metadata": {
    "collapsed": false
   },
   "outputs": [],
   "source": [
    "batch, i = valid_batch.next()\n",
    "print(accuracy.eval(feed_dict={x: batch['features'], ts_pl: batch['ts']}))"
   ]
  },
  {
   "cell_type": "code",
   "execution_count": null,
   "metadata": {
    "collapsed": true
   },
   "outputs": [],
   "source": []
  }
 ],
 "metadata": {
  "kernelspec": {
   "display_name": "Python 2",
   "language": "python",
   "name": "python2"
  },
  "language_info": {
   "codemirror_mode": {
    "name": "ipython",
    "version": 2
   },
   "file_extension": ".py",
   "mimetype": "text/x-python",
   "name": "python",
   "nbconvert_exporter": "python",
   "pygments_lexer": "ipython2",
   "version": "2.7.6"
  }
 },
 "nbformat": 4,
 "nbformat_minor": 2
}
