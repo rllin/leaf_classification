{
 "cells": [
  {
   "cell_type": "code",
   "execution_count": 1,
   "metadata": {
    "collapsed": false
   },
   "outputs": [
    {
     "name": "stderr",
     "output_type": "stream",
     "text": [
      "/usr/local/lib/python2.7/dist-packages/sklearn/cross_validation.py:44: DeprecationWarning: This module was deprecated in version 0.18 in favor of the model_selection module into which all the refactored classes and functions are moved. Also note that the interface of the new CV iterators are different from that of this module. This module will be removed in 0.20.\n",
      "  \"This module will be removed in 0.20.\", DeprecationWarning)\n"
     ]
    }
   ],
   "source": [
    "from datetime import datetime\n",
    "import time\n",
    "import pickle\n",
    "import glob\n",
    "import json\n",
    "\n",
    "import numpy as np\n",
    "import pandas as pd\n",
    "import matplotlib.pyplot as plt\n",
    "import tensorflow as tf\n",
    "\n",
    "from scipy.stats import randint, uniform\n",
    "from sklearn.preprocessing import LabelEncoder\n",
    "from sklearn.cross_validation import StratifiedShuffleSplit\n",
    "from skimage.io import imread, imshow\n",
    "from skimage.transform import resize\n",
    "from skimage.util import pad\n",
    "from tensorflow.python.framework.ops import reset_default_graph\n",
    "\n",
    "from util import etl, helpers, cnn_classifier"
   ]
  },
  {
   "cell_type": "code",
   "execution_count": null,
   "metadata": {
    "collapsed": true
   },
   "outputs": [],
   "source": []
  },
  {
   "cell_type": "code",
   "execution_count": 2,
   "metadata": {
    "collapsed": true
   },
   "outputs": [],
   "source": [
    "TRAIN_PATH = \"./data/train.csv\"\n",
    "TEST_PATH = \"./data/test.csv\"\n",
    "IMAGE_PATHS = glob.glob(\"./data/images/*.jpg\")\n",
    "\n",
    "VALIDATION_SIZE = 0.1\n",
    "SEED = 42\n",
    "TRAIN_SIZE = 1.0\n",
    "ITERATIONS = 1e1\n",
    "\n",
    "params_range = {\n",
    "    'conv1_num': (0, randint(1, 10)),\n",
    "    'conv1_out': (2, randint(2, 8)),\n",
    "    'conv2_num': (0, randint(1, 10)),\n",
    "    'conv2_out': (2, randint(2, 8)),\n",
    "    'd_out': (2, randint(4, 10)),\n",
    "    'dropout': (0, uniform(0, 1.0)),\n",
    "    'HEIGHT': (0, randint(170, 1700)),\n",
    "    'WIDTH': (0, randint(170, 1700)),\n",
    "    'CHANNEL': 1,\n",
    "    'BATCH_SIZE': 64,\n",
    "    'NUM_CLASSES': 99,\n",
    "    'VALIDATION_SIZE': VALIDATION_SIZE,\n",
    "    'SEED': SEED,\n",
    "    'TRAIN_SIZE': TRAIN_SIZE,\n",
    "    'CLASS_SIZE': 0.1,\n",
    "    'ITERATIONS': ITERATIONS,\n",
    "    'LEARNING_RATE': (10, randint(-6, 1)),\n",
    "    'report_interval': 1\n",
    "}\n",
    "\n",
    "def run(params_range, samplings=5):\n",
    "    params = helpers.random_search(params_range, samplings)\n",
    "    for param in params:\n",
    "        param['WIDTH'] = param['HEIGHT']\n",
    "        print 'running with the following parameters: \\n %s' % json.dumps(param, indent=4)\n",
    "        data = etl.load_data(train_path=TRAIN_PATH,\n",
    "                             test_path=TEST_PATH,\n",
    "                             image_paths=IMAGE_PATHS,\n",
    "                             image_shape=(param['HEIGHT'], param['WIDTH']))\n",
    "        model = cnn_classifier.CnnClassifier(data.train, data.test, data.le, param)\n",
    "        model.train(param['ITERATIONS'])\n"
   ]
  },
  {
   "cell_type": "code",
   "execution_count": null,
   "metadata": {
    "collapsed": false
   },
   "outputs": [
    {
     "name": "stdout",
     "output_type": "stream",
     "text": [
      "running with the following parameters: \n",
      " {\n",
      "    \"VALIDATION_SIZE\": 0.1, \n",
      "    \"conv2_num\": 6, \n",
      "    \"report_interval\": 1, \n",
      "    \"conv2_out\": 8, \n",
      "    \"dropout\": 0.28373947148560563, \n",
      "    \"CHANNEL\": 1, \n",
      "    \"BATCH_SIZE\": 64, \n",
      "    \"HEIGHT\": 1165, \n",
      "    \"TRAIN_SIZE\": 1.0, \n",
      "    \"WIDTH\": 1165, \n",
      "    \"SEED\": 42, \n",
      "    \"d_out\": 16, \n",
      "    \"NUM_CLASSES\": 99, \n",
      "    \"ITERATIONS\": 10.0, \n",
      "    \"conv1_num\": 5, \n",
      "    \"LEARNING_RATE\": 0.1, \n",
      "    \"CLASS_SIZE\": 0.1, \n",
      "    \"conv1_out\": 4\n",
      "}\n",
      "loading data ...\n",
      "loading train ...\n"
     ]
    }
   ],
   "source": [
    "run(params_range, 2)"
   ]
  },
  {
   "cell_type": "code",
   "execution_count": null,
   "metadata": {
    "collapsed": true
   },
   "outputs": [],
   "source": []
  },
  {
   "cell_type": "code",
   "execution_count": null,
   "metadata": {
    "collapsed": true
   },
   "outputs": [],
   "source": []
  },
  {
   "cell_type": "code",
   "execution_count": 31,
   "metadata": {
    "collapsed": false
   },
   "outputs": [
    {
     "name": "stdout",
     "output_type": "stream",
     "text": [
      "1089 1706\n"
     ]
    }
   ],
   "source": [
    "heights, widths = [None,] * len(IMAGE_PATHS), [None,] * len(IMAGE_PATHS)\n",
    "for i, path in enumerate(IMAGE_PATHS):\n",
    "    image = imread(path)\n",
    "    h, w = image.shape\n",
    "    heights[i] = h\n",
    "    widths[i] = w\n",
    "print np.max(heights), np.max(widths)"
   ]
  },
  {
   "cell_type": "code",
   "execution_count": 118,
   "metadata": {
    "collapsed": false
   },
   "outputs": [
    {
     "name": "stdout",
     "output_type": "stream",
     "text": [
      "(513, 1706)\n"
     ]
    },
    {
     "data": {
      "image/png": "[encoded data removed]",
      "text/plain": [
       "<matplotlib.figure.Figure at 0x7ff3ecdf3790>"
      ]
     },
     "metadata": {},
     "output_type": "display_data"
    }
   ],
   "source": [
    "def pad_upto(image, (target_height, target_width)):\n",
    "    h, w = image.shape\n",
    "    up, left = (target_height - h) / 2, (target_width - w) / 2\n",
    "    down, right = target_height - h - up, target_width - w - left\n",
    "    return pad(image, ((up, down), (left, right)), 'constant')\n",
    "\n",
    "def resize_proportionally(image, (target_height, target_width)):\n",
    "    h, w = image.shape\n",
    "    h_mul, w_mul = target_height / float(h), target_width / float(w)\n",
    "    if h_mul > w_mul:\n",
    "        scaled = resize(image, (int(w_mul * h), target_width), mode='constant')\n",
    "        print scaled.shape\n",
    "    else:\n",
    "        scaled = resize(image, (target_height, int(h_mul * w)), mode='constant')\n",
    "    return pad_upto(scaled, (target_height, target_width))\n",
    "\n",
    "def scale_resize(image, (max_height, max_width), (target_height, target_width)):\n",
    "    return resize(resize_proportionally(image, (max_height, max_width)), (target_height, target_width))\n",
    "\n",
    "resized = scale_resize(image, (1706, 1706), (213, 213))\n",
    "plt.imshow(np.round(resized))\n",
    "plt.show()"
   ]
  },
  {
   "cell_type": "code",
   "execution_count": 103,
   "metadata": {
    "collapsed": false
   },
   "outputs": [
    {
     "name": "stdout",
     "output_type": "stream",
     "text": [
      "(579, 446)\n",
      "(1706, 1706)\n"
     ]
    },
    {
     "data": {
      "image/png": "[encoded data removed]",
      "text/plain": [
       "<matplotlib.figure.Figure at 0x7ff3ec3b6a90>"
      ]
     },
     "metadata": {},
     "output_type": "display_data"
    },
    {
     "name": "stdout",
     "output_type": "stream",
     "text": [
      "(286, 950)\n",
      "(513, 1706)\n",
      "(1706, 1706)\n"
     ]
    },
    {
     "data": {
      "image/png": "[encoded data removed]",
      "text/plain": [
       "<matplotlib.figure.Figure at 0x7ff3ec7da310>"
      ]
     },
     "metadata": {},
     "output_type": "display_data"
    }
   ],
   "source": [
    "IMAGE_PATHS = glob.glob(\"./data/images/*.jpg\")\n",
    "\n",
    "\n",
    "for path in IMAGE_PATHS[300:302]:\n",
    "    image = imread(path, as_grey=True)\n",
    "    print image.shape\n",
    "    resized = resize_proportionally(image, (1706, 1706))\n",
    "    plt.subplot(211)\n",
    "    plt.imshow(image, cmap='gray')\n",
    "    plt.subplot(212)\n",
    "    plt.imshow(resize(resized, (171, 171)), cmap='gray')\n",
    "    print resized.shape\n",
    "    plt.show()\n"
   ]
  },
  {
   "cell_type": "code",
   "execution_count": null,
   "metadata": {
    "collapsed": true
   },
   "outputs": [],
   "source": []
  },
  {
   "cell_type": "code",
   "execution_count": null,
   "metadata": {
    "collapsed": true
   },
   "outputs": [],
   "source": []
  },
  {
   "cell_type": "code",
   "execution_count": null,
   "metadata": {
    "collapsed": true
   },
   "outputs": [],
   "source": []
  },
  {
   "cell_type": "code",
   "execution_count": null,
   "metadata": {
    "collapsed": true
   },
   "outputs": [],
   "source": []
  },
  {
   "cell_type": "code",
   "execution_count": 5,
   "metadata": {
    "collapsed": false
   },
   "outputs": [],
   "source": [
    "TRAIN_PATH = \"./data/train.csv\"\n",
    "TEST_PATH = \"./data/test.csv\"\n",
    "IMAGE_PATHS = glob.glob(\"./data/images/*.jpg\")\n",
    "\n",
    "with open('./data/train.pickle', 'rb') as f:\n",
    "    train = pickle.load(f)\n",
    "with open('./data/test.pickle', 'rb') as f:\n",
    "    test = pickle.load(f)\n",
    "with open('./data/le.pickle', 'rb') as f:\n",
    "    classes = pickle.load(f)\n",
    "    \n",
    "BATCH_SIZE = 64\n",
    "NUM_CLASSES = 99\n",
    "ITERATIONS = 1e3\n",
    "SEED = 42\n",
    "TRAIN_SIZE = 1.0\n",
    "VALIDATION_SIZE = 0.1\n",
    "CLASS_SIZE = 0.1"
   ]
  },
  {
   "cell_type": "code",
   "execution_count": 6,
   "metadata": {
    "collapsed": false
   },
   "outputs": [
    {
     "name": "stdout",
     "output_type": "stream",
     "text": [
      "initiating batch generator with (10/99) classes and 1.000000 of the training data and 0.100000 as validation\n",
      "(64, 128, 128, 32)\n",
      "(64, 64, 64, 32)\n",
      "(64, 64, 64, 64)\n",
      "(64, 32, 32, 64)\n",
      "(64, 1024)\n",
      "(64, 10)\n",
      "Iter \t Batch Loss \t Batch Accuracy \t Valid Loss \t Valid Accuracy \t Time delta\n",
      "\n",
      "0\t239193.3750\t\t0.1094\t\t41435.6016\t\t0.0312\t\t20.6415\n",
      "\n",
      "594 594\n",
      "1\t219900.4375\t\t0.0156\t\t31952.4570\t\t0.0312\t\t11.4365\n",
      "\n",
      "594 594\n",
      "deleted results at ./tmp/results/results_41435.601562_0_2017-01-24T18:48:15.920818.csv\n"
     ]
    }
   ],
   "source": [
    "params = {\n",
    "    'conv1_num': 5,\n",
    "    'conv1_out': 32,\n",
    "    'conv2_num': 5,\n",
    "    'conv2_out': 64,\n",
    "    'd_out': 1024,\n",
    "    'dropout': 0.75,\n",
    "    'HEIGHT': 128,\n",
    "    'WIDTH': 128,\n",
    "    'CHANNEL': 1,\n",
    "    'BATCH_SIZE': 64,\n",
    "    'NUM_CLASSES': 99,\n",
    "    'VALIDATION_SIZE': VALIDATION_SIZE,\n",
    "    'SEED': SEED,\n",
    "    'TRAIN_SIZE': TRAIN_SIZE,\n",
    "    'CLASS_SIZE': 0.1,\n",
    "    'ITERATIONS': ITERATIONS,\n",
    "    'LEARNING_RATE': 0.0005,\n",
    "    'report_interval': 1\n",
    "}\n",
    "model = cnn_classifier.CnnClassifier(train, test, classes, params)\n",
    "model.train(1)"
   ]
  },
  {
   "cell_type": "code",
   "execution_count": 27,
   "metadata": {
    "collapsed": true
   },
   "outputs": [],
   "source": [
    "def random_search(params_range, samplings, iterations=1e8):\n",
    "    for instance in range(samplings):\n",
    "        params = {}\n",
    "        for param_name, value in params_range.items():\n",
    "            if type(value) == tuple:\n",
    "                base, dist = value\n",
    "                if base == 0:\n",
    "                    params[param_name] = dist.rvs()\n",
    "                else:\n",
    "                    params[param_name] = base ** dist.rvs()\n",
    "            else:\n",
    "                params[param_name] = value\n",
    "        print json.dumps(params, indent=2)\n",
    "        #model = cnn_classifier.CnnClassifier(train, test, classes, params)\n",
    "        #model.train(iterations)"
   ]
  },
  {
   "cell_type": "code",
   "execution_count": 32,
   "metadata": {
    "collapsed": false
   },
   "outputs": [
    {
     "name": "stdout",
     "output_type": "stream",
     "text": [
      "{\n",
      "  \"VALIDATION_SIZE\": 0.1, \n",
      "  \"conv2_num\": 5, \n",
      "  \"report_interval\": 1, \n",
      "  \"conv2_out\": 64, \n",
      "  \"dropout\": 0.74683366281846841, \n",
      "  \"CHANNEL\": 1, \n",
      "  \"BATCH_SIZE\": 64, \n",
      "  \"HEIGHT\": 128, \n",
      "  \"TRAIN_SIZE\": 1.0, \n",
      "  \"WIDTH\": 128, \n",
      "  \"SEED\": 42, \n",
      "  \"d_out\": 64, \n",
      "  \"NUM_CLASSES\": 99, \n",
      "  \"ITERATIONS\": 1000.0, \n",
      "  \"conv1_num\": 6, \n",
      "  \"LEARNING_RATE\": 0.1, \n",
      "  \"CLASS_SIZE\": 0.1, \n",
      "  \"conv1_out\": 128\n",
      "}\n",
      "{\n",
      "  \"VALIDATION_SIZE\": 0.1, \n",
      "  \"conv2_num\": 9, \n",
      "  \"report_interval\": 1, \n",
      "  \"conv2_out\": 32, \n",
      "  \"dropout\": 0.18888091641438898, \n",
      "  \"CHANNEL\": 1, \n",
      "  \"BATCH_SIZE\": 64, \n",
      "  \"HEIGHT\": 128, \n",
      "  \"TRAIN_SIZE\": 1.0, \n",
      "  \"WIDTH\": 128, \n",
      "  \"SEED\": 42, \n",
      "  \"d_out\": 256, \n",
      "  \"NUM_CLASSES\": 99, \n",
      "  \"ITERATIONS\": 1000.0, \n",
      "  \"conv1_num\": 4, \n",
      "  \"LEARNING_RATE\": 0.001, \n",
      "  \"CLASS_SIZE\": 0.1, \n",
      "  \"conv1_out\": 32\n",
      "}\n",
      "{\n",
      "  \"VALIDATION_SIZE\": 0.1, \n",
      "  \"conv2_num\": 9, \n",
      "  \"report_interval\": 1, \n",
      "  \"conv2_out\": 16, \n",
      "  \"dropout\": 0.03818204443454154, \n",
      "  \"CHANNEL\": 1, \n",
      "  \"BATCH_SIZE\": 64, \n",
      "  \"HEIGHT\": 128, \n",
      "  \"TRAIN_SIZE\": 1.0, \n",
      "  \"WIDTH\": 128, \n",
      "  \"SEED\": 42, \n",
      "  \"d_out\": 128, \n",
      "  \"NUM_CLASSES\": 99, \n",
      "  \"ITERATIONS\": 1000.0, \n",
      "  \"conv1_num\": 2, \n",
      "  \"LEARNING_RATE\": 0.001, \n",
      "  \"CLASS_SIZE\": 0.1, \n",
      "  \"conv1_out\": 16\n",
      "}\n",
      "{\n",
      "  \"VALIDATION_SIZE\": 0.1, \n",
      "  \"conv2_num\": 2, \n",
      "  \"report_interval\": 1, \n",
      "  \"conv2_out\": 32, \n",
      "  \"dropout\": 0.40182534307523721, \n",
      "  \"CHANNEL\": 1, \n",
      "  \"BATCH_SIZE\": 64, \n",
      "  \"HEIGHT\": 128, \n",
      "  \"TRAIN_SIZE\": 1.0, \n",
      "  \"WIDTH\": 128, \n",
      "  \"SEED\": 42, \n",
      "  \"d_out\": 16, \n",
      "  \"NUM_CLASSES\": 99, \n",
      "  \"ITERATIONS\": 1000.0, \n",
      "  \"conv1_num\": 3, \n",
      "  \"LEARNING_RATE\": 0.001, \n",
      "  \"CLASS_SIZE\": 0.1, \n",
      "  \"conv1_out\": 4\n",
      "}\n",
      "{\n",
      "  \"VALIDATION_SIZE\": 0.1, \n",
      "  \"conv2_num\": 9, \n",
      "  \"report_interval\": 1, \n",
      "  \"conv2_out\": 4, \n",
      "  \"dropout\": 0.70510252320388633, \n",
      "  \"CHANNEL\": 1, \n",
      "  \"BATCH_SIZE\": 64, \n",
      "  \"HEIGHT\": 128, \n",
      "  \"TRAIN_SIZE\": 1.0, \n",
      "  \"WIDTH\": 128, \n",
      "  \"SEED\": 42, \n",
      "  \"d_out\": 16, \n",
      "  \"NUM_CLASSES\": 99, \n",
      "  \"ITERATIONS\": 1000.0, \n",
      "  \"conv1_num\": 8, \n",
      "  \"LEARNING_RATE\": 0.0001, \n",
      "  \"CLASS_SIZE\": 0.1, \n",
      "  \"conv1_out\": 32\n",
      "}\n"
     ]
    }
   ],
   "source": [
    "params_range = {\n",
    "    'conv1_num': (0, randint(1, 10)),\n",
    "    'conv1_out': (2, randint(2, 8)),\n",
    "    'conv2_num': (0, randint(1, 10)),\n",
    "    'conv2_out': (2, randint(2, 8)),\n",
    "    'd_out': (2, randint(4, 10)),\n",
    "    'dropout': (0, uniform(0, 1.0)),\n",
    "    'HEIGHT': 128,\n",
    "    'WIDTH': 128,\n",
    "    'CHANNEL': 1,\n",
    "    'BATCH_SIZE': 64,\n",
    "    'NUM_CLASSES': 99,\n",
    "    'VALIDATION_SIZE': VALIDATION_SIZE,\n",
    "    'SEED': SEED,\n",
    "    'TRAIN_SIZE': TRAIN_SIZE,\n",
    "    'CLASS_SIZE': 0.1,\n",
    "    'ITERATIONS': ITERATIONS,\n",
    "    'LEARNING_RATE': (10, randint(-6, 1)),\n",
    "    'report_interval': 1\n",
    "}\n",
    "random_search(params_range, 5)"
   ]
  },
  {
   "cell_type": "code",
   "execution_count": null,
   "metadata": {
    "collapsed": true
   },
   "outputs": [],
   "source": []
  }
 ],
 "metadata": {
  "kernelspec": {
   "display_name": "Python 2",
   "language": "python",
   "name": "python2"
  },
  "language_info": {
   "codemirror_mode": {
    "name": "ipython",
    "version": 2
   },
   "file_extension": ".py",
   "mimetype": "text/x-python",
   "name": "python",
   "nbconvert_exporter": "python",
   "pygments_lexer": "ipython2",
   "version": "2.7.6"
  }
 },
 "nbformat": 4,
 "nbformat_minor": 2
}
