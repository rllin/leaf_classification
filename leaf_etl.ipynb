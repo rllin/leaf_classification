{
 "cells": [
  {
   "cell_type": "code",
   "execution_count": 36,
   "metadata": {
    "collapsed": false
   },
   "outputs": [],
   "source": [
    "import os\n",
    "from os import path\n",
    "import subprocess\n",
    "import itertools\n",
    "from datetime import datetime\n",
    "import time\n",
    "import glob\n",
    "import random\n",
    "import pickle\n",
    "\n",
    "import pandas as pd\n",
    "import tensorflow as tf\n",
    "import numpy as np\n",
    "\n",
    "from sklearn.preprocessing import LabelEncoder\n",
    "from skimage.io import imread, imsave, imread_collection\n",
    "from skimage.transform import resize\n",
    "\n",
    "from util import etl, helpers"
   ]
  },
  {
   "cell_type": "code",
   "execution_count": 44,
   "metadata": {
    "collapsed": false,
    "scrolled": true
   },
   "outputs": [
    {
     "name": "stdout",
     "output_type": "stream",
     "text": [
      "loading data ...\n",
      "loading train ...\n",
      "loading test ...\n",
      "data loaded\n",
      "initiating batch generator with (10/99) classes and 1.000000 of the training data and 0.200000 as validation\n",
      "0.2\n"
     ]
    }
   ],
   "source": [
    "reload(etl)\n",
    "sess = tf.InteractiveSession()\n",
    "# loading data and setting up constants\n",
    "TRAIN_PATH = \"./data/train_images.csv\"\n",
    "TRAIN_PATH = \"./data/train.csv\"\n",
    "TEST_PATH = \"./data/test.csv\"\n",
    "IMAGE_PATHS = glob.glob(\"./data/128x128/*.jpg\")\n",
    "IMAGE_PATHS = [e for e in IMAGE_PATHS if int(path.basename(path.splitext(e)[0])) <= 1584]\n",
    "IMAGE_SHAPE = (128, 128, 1)\n",
    "\n",
    "# train holds both X (input) and t (target/truth)\n",
    "data = etl.load_data(train_path=TRAIN_PATH, test_path=TEST_PATH,\n",
    "                 image_paths=IMAGE_PATHS, image_shape=IMAGE_SHAPE[:2])\n",
    "batches = etl.batch_generator(data.train, data.test,\n",
    "                                   batch_size=64,\n",
    "                                   num_classes=99,\n",
    "                                   num_iterations=1e2,\n",
    "                                   seed=42,\n",
    "                                   train_size=1.0,\n",
    "                                   val_size=0.2,\n",
    "                                   class_size=0.1)\n"
   ]
  },
  {
   "cell_type": "code",
   "execution_count": 45,
   "metadata": {
    "collapsed": false
   },
   "outputs": [
    {
     "name": "stdout",
     "output_type": "stream",
     "text": [
      "Counter({0: 2, 1: 2, 2: 2, 3: 2, 4: 2, 5: 2, 6: 2, 7: 2, 8: 2, 9: 2})\n",
      "Counter({0: 8, 1: 8, 2: 8, 3: 8, 4: 8, 5: 8, 6: 8, 7: 8, 8: 8, 9: 8})\n",
      "set([])\n",
      "set([0, 1, 2, 3, 4, 5, 6, 7, 8, 9])\n",
      "set([0, 1, 2, 3, 4, 5, 6, 7, 8, 9])\n"
     ]
    }
   ],
   "source": [
    "from collections import Counter\n",
    "print Counter([batches._train['ts'][e] for e in batches._idcs_valid])\n",
    "print Counter([batches._train['ts'][e] for e in batches._idcs_train])\n",
    "print set(batches._idcs_valid).intersection(set(batches._idcs_train))\n",
    "print set([batches._train['ts'][e] for e in batches._idcs_valid])\n",
    "print set([batches._train['ts'][e] for e in batches._idcs_train])"
   ]
  },
  {
   "cell_type": "code",
   "execution_count": null,
   "metadata": {
    "collapsed": true
   },
   "outputs": [],
   "source": []
  },
  {
   "cell_type": "code",
   "execution_count": null,
   "metadata": {
    "collapsed": true
   },
   "outputs": [],
   "source": []
  },
  {
   "cell_type": "code",
   "execution_count": null,
   "metadata": {
    "collapsed": true
   },
   "outputs": [],
   "source": []
  },
  {
   "cell_type": "code",
   "execution_count": 44,
   "metadata": {
    "collapsed": false
   },
   "outputs": [],
   "source": [
    "with open('./data/train.pickle', 'wb') as f:\n",
    "    pickle.dump(data.train, f)\n",
    "    \n",
    "with open('./data/test.pickle', 'wb') as f:\n",
    "    pickle.dump(data.test, f)\n",
    "    \n",
    "with open('./data/le.pickle', 'wb') as f:\n",
    "    pickle.dump(data.le, f)    \n",
    "    "
   ]
  },
  {
   "cell_type": "code",
   "execution_count": null,
   "metadata": {
    "collapsed": true
   },
   "outputs": [],
   "source": []
  }
 ],
 "metadata": {
  "kernelspec": {
   "display_name": "Python 2",
   "language": "python",
   "name": "python2"
  },
  "language_info": {
   "codemirror_mode": {
    "name": "ipython",
    "version": 2
   },
   "file_extension": ".py",
   "mimetype": "text/x-python",
   "name": "python",
   "nbconvert_exporter": "python",
   "pygments_lexer": "ipython2",
   "version": "2.7.6"
  }
 },
 "nbformat": 4,
 "nbformat_minor": 2
}
